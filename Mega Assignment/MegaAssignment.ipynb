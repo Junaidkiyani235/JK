{
 "cells": [
  {
   "cell_type": "raw",
   "metadata": {},
   "source": [
    "# Mega Assignment\n",
    "# Name   : Muhammad Junaid Shahid\n",
    "# Roll # : PIAIC 73802\n",
    "# Course : AI Islamabad Batch 3 3:30 to 6:30"
   ]
  },
  {
   "cell_type": "raw",
   "metadata": {},
   "source": [
    "1. Which of the following terms are related to dictionaries?\n",
    "a. value\n",
    "b. item\n",
    "c. index\n",
    "d. key\n",
    "\n",
    "Answer:\n",
    "a. value\n",
    "d. key"
   ]
  },
  {
   "cell_type": "raw",
   "metadata": {},
   "source": [
    "2. Just like lists, + operator is used to extend dictionaries?\n",
    "a. True\n",
    "b. False\n",
    "\n",
    "Answer:\n",
    "b. False"
   ]
  },
  {
   "cell_type": "raw",
   "metadata": {},
   "source": [
    "3. To access items from a dictionary, we specify the index of that item within [] like myDict[0]?\n",
    "a. True\n",
    "b. False\n",
    "\n",
    "Answer:\n",
    "b. False"
   ]
  },
  {
   "cell_type": "raw",
   "metadata": {},
   "source": [
    "4. When we use [] to access the value from a dictionary which does not exist in that dictionary….?\n",
    "a. Value within [] is added to the dictionary\n",
    "b. Value None is returned\n",
    "c. New dictionary is created\n",
    "d. None of above\n",
    "\n",
    "Answer:\n",
    "d. None of above"
   ]
  },
  {
   "cell_type": "raw",
   "metadata": {},
   "source": [
    "5. What does return the pop method of a dictionary?\n",
    "a. list\n",
    "b. tuple containing the pair of last item of the dictionary\n",
    "c. dictionary\n",
    "d. value of the key, if it exists in the dictionary\n",
    "\n",
    "Answer:\n",
    "d. value of the key, if it exists in the dictionary\n"
   ]
  },
  {
   "cell_type": "raw",
   "metadata": {},
   "source": [
    "6. What does return popitem method return?\n",
    "a. dictionary\n",
    "b. tupple containing the pair of last item of the dictionary\n",
    "c. list\n",
    "d. value of key, if it exists in the dictionary\n",
    "\n",
    "Answer:\n",
    "b. tupple containing the pair of last item of the dictionary"
   ]
  },
  {
   "cell_type": "raw",
   "metadata": {},
   "source": [
    "7. Which of the following 2 methods can be used to iterate through the items of a dictionary?\n",
    "a. items()\n",
    "b. values()\n",
    "c. indexes()\n",
    "d. keys()\n",
    "Answer:\n",
    "a. items()\n",
    "b. values()"
   ]
  },
  {
   "cell_type": "raw",
   "metadata": {},
   "source": [
    "8. Which one of the following is used to enclose a dictionary?\n",
    "a. () parenthesis\n",
    "b. {} curly brackets\n",
    "c. [] square brackets\n",
    "d. “” quotation marks\n",
    "Answer:\n",
    "b. {} curly brackets"
   ]
  },
  {
   "cell_type": "code",
   "execution_count": 5,
   "metadata": {},
   "outputs": [
    {
     "name": "stdout",
     "output_type": "stream",
     "text": [
      "['Feb', 'Apr', 'Mar']\n",
      "['Mar', 'May', 'Jun', 'Jul', 'Aug', 'Jan']\n",
      "['Jun', 'Jul', 'Aug', 'Jan']\n",
      "['Apr', 'May', 'Jul']\n",
      "[]\n",
      "['Apr', 'Mar', 'May', 'Jun', 'Jul', 'Aug']\n",
      "['Jan', 'Jul', 'May', 'Apr']\n",
      "['Feb', 'Apr', 'Mar', 'May']\n"
     ]
    }
   ],
   "source": [
    "#11. X = [\"Feb\", Apr, Mar, May, Jun, Jul, Aug, Jan]. What will be output of following? \n",
    "#X[0:3] \n",
    "#X[2:8]\n",
    "#X[4:9] \n",
    "#X[1:7:2] \n",
    "#X[-1:-7] \n",
    "#X[-7:7] \n",
    "#X[-1:-8:-2] \n",
    "#X[:4]\n",
    "#Answer:\n",
    "\n",
    "X = [\"Feb\", \"Apr\", \"Mar\", \"May\", \"Jun\", \"Jul\", \"Aug\", \"Jan\"]\n",
    "\n",
    "print(X[0:3]) #  ['Feb', 'Apr', 'Mar']\n",
    "print(X[2:8]) # ['Mar', 'May', 'Jun', 'Jul', 'Aug', 'Jan']\n",
    "print(X[4:9]) #['Jun', 'Jul', 'Aug', 'Jan']\n",
    "print(X[1:7:2]) # ['Apr', 'May', 'Jul']\n",
    "print(X[-1:-7]) # []\n",
    "print(X[-7:7]) # ['Apr', 'Mar', 'May', 'Jun', 'Jul', 'Aug']\n",
    "print(X[-1:-8:-2]) # ['Jan', 'Jul', 'May', 'Apr']\n",
    "print(X[:4]) # ['Feb', 'Apr', 'Mar', 'May']"
   ]
  },
  {
   "cell_type": "code",
   "execution_count": 6,
   "metadata": {},
   "outputs": [
    {
     "name": "stdout",
     "output_type": "stream",
     "text": [
      "[9, 2, 8, 4, 5]\n",
      "[2, 8, 4, 5]\n"
     ]
    }
   ],
   "source": [
    "#112. Remove the correct number from the list X\n",
    "#X = [ 9,2,8,4,5]\n",
    "#X__?__\n",
    "#print (X)\n",
    "#Output: [2,8,4,5]\n",
    "#1) .delete(9) \n",
    "#2) .rm(9) \n",
    "#3) .remove(9)\n",
    "\n",
    "\n",
    "X = [ 9,2,8,4,5]\n",
    "print(X)\n",
    "X.remove(9)\n",
    "print(X)\n",
    "\n",
    "#Answer:\n",
    "#3 .remove(9)"
   ]
  },
  {
   "cell_type": "code",
   "execution_count": 7,
   "metadata": {},
   "outputs": [
    {
     "name": "stdout",
     "output_type": "stream",
     "text": [
      "hello! hello! hello! \n"
     ]
    }
   ],
   "source": [
    "#13. p = 3\n",
    "#q = 'hello! '\n",
    "#print( q __?__ p)\n",
    "#hello! hello! hello!\n",
    "#1) *\n",
    "#2) **\n",
    "#3) +\n",
    "\n",
    "p=3\n",
    "q = 'hello! '\n",
    "print(q*p)\n",
    "\n",
    "#Answer:\n",
    "# 1) *"
   ]
  },
  {
   "cell_type": "code",
   "execution_count": 15,
   "metadata": {},
   "outputs": [
    {
     "name": "stdout",
     "output_type": "stream",
     "text": [
      "THIS IS A RANDOM SENTENCE\n"
     ]
    }
   ],
   "source": [
    "#14. y = \"this is a random sentence\" \n",
    "#print (y__?__) \n",
    "#Output: THIS IS A RANDOM SENTENCE \n",
    "#1) .upper() \n",
    "#2) .upcase() \n",
    "#3) .capitalize() \n",
    "\n",
    "y = \"this is a random sentence\"\n",
    "print(y.upper())\n",
    "\n",
    "# Answer:\n",
    "# 1) .upper()"
   ]
  },
  {
   "cell_type": "code",
   "execution_count": 24,
   "metadata": {},
   "outputs": [
    {
     "name": "stdout",
     "output_type": "stream",
     "text": [
      "<class 'bool'>\n",
      "<class 'str'>\n",
      "<class 'int'>\n",
      "<class 'float'>\n"
     ]
    }
   ],
   "source": [
    "#15. p = True \n",
    "#q = ‘True’ \n",
    "#r = 2 \n",
    "#s = 2.0 \n",
    "\n",
    "# Answer:\n",
    "p = True # bool\n",
    "q = 'True' # str\n",
    "r = 2 # int\n",
    "s = 2.0 # float\n",
    "print(type(p)) # bool\n",
    "print(type(q)) # str\n",
    "print(type(r)) # int\n",
    "print(type(s)) # float"
   ]
  },
  {
   "cell_type": "raw",
   "metadata": {},
   "source": [
    "16. What are the optional arguments to the function? \n",
    "function_1(R1, q, p=None, R2= None) \n",
    "1) q and R2 \n",
    "2) p and R2 \n",
    "3) p and R1 \n",
    "4) R1 and q\n",
    "\n",
    "Answer:\n",
    "2) p and R2"
   ]
  },
  {
   "cell_type": "raw",
   "metadata": {},
   "source": [
    "17. Which command invokes method X() of the object p? \n",
    "1) X(p) \n",
    "2) p$x() \n",
    "3) X().p \n",
    "4) p.x()\n",
    "\n",
    "Answer:\n",
    "4) p.x()"
   ]
  },
  {
   "cell_type": "code",
   "execution_count": 25,
   "metadata": {},
   "outputs": [
    {
     "name": "stdout",
     "output_type": "stream",
     "text": [
      "0\n",
      "2.0\n",
      "2\n",
      "2\n"
     ]
    }
   ],
   "source": [
    "#18. X=4 , Y= 2\n",
    "#print(X % Y)\n",
    "#print(X / Y)\n",
    "#print(X // Y)\n",
    "#print(Y % X)\n",
    "\n",
    "\n",
    "# Answer:\n",
    "X=4\n",
    "Y= 2\n",
    "print(X % Y) # will output  0\n",
    "print(X / Y) # will output  2.0\n",
    "print(X // Y) # will output  2\n",
    "print(Y % X) # will output  2"
   ]
  },
  {
   "cell_type": "code",
   "execution_count": 27,
   "metadata": {},
   "outputs": [
    {
     "name": "stdout",
     "output_type": "stream",
     "text": [
      "4\n",
      "1\n",
      "1\n",
      "5\n",
      "9\n",
      "0\n"
     ]
    }
   ],
   "source": [
    "#19. x = [[4, 1, 1], [5, 9, 0]]\n",
    "\n",
    "#for i in __?__:\n",
    "#for j in __?__:\n",
    "#?\n",
    "\n",
    "# Answer:\n",
    "x = [[4, 1, 1], [5, 9, 0]]\n",
    "\n",
    "for i in x:\n",
    "    for j in i:\n",
    "        print(j)\n",
    "\n",
    "\n"
   ]
  },
  {
   "cell_type": "code",
   "execution_count": 41,
   "metadata": {},
   "outputs": [
    {
     "name": "stdout",
     "output_type": "stream",
     "text": [
      "4 \t 5\n",
      "1 \t 9\n",
      "1 \t 0\n"
     ]
    }
   ],
   "source": [
    "x = [[4, 1, 1], [5, 9, 0]]\n",
    "#for i in __?__:\n",
    "#for j in __?__:\n",
    "#?\n",
    "\n",
    "for i,j in enumerate(range(len(x[0]))):\n",
    "    print(x[0][i], \"\\t\",x[1][i] )"
   ]
  },
  {
   "cell_type": "code",
   "execution_count": 50,
   "metadata": {},
   "outputs": [
    {
     "name": "stdout",
     "output_type": "stream",
     "text": [
      "4\t1\t1\t5\t9\t0\t\n"
     ]
    }
   ],
   "source": [
    "x = [[4, 1, 1], [5, 9, 0]]\n",
    "#for i in __?__:\n",
    "#for j in __?__:\n",
    "#?\n",
    "\n",
    "for i in x:\n",
    "    for j in i:\n",
    "        print(j,end=\"\\t\")\n",
    "print(\"\")"
   ]
  },
  {
   "cell_type": "code",
   "execution_count": 57,
   "metadata": {},
   "outputs": [
    {
     "name": "stdout",
     "output_type": "stream",
     "text": [
      "4\t1\t1\t\n",
      "5\t9\t0\t\n"
     ]
    }
   ],
   "source": [
    "x = [[4, 1, 1], [5, 9, 0]]\n",
    "#for i in __?__:\n",
    "#for j in __?__:\n",
    "#?\n",
    "\n",
    "for i in x:\n",
    "    for j in i:\n",
    "        print(j, end=\"\\t\")\n",
    "    print(\"\")"
   ]
  },
  {
   "cell_type": "code",
   "execution_count": 65,
   "metadata": {},
   "outputs": [
    {
     "name": "stdout",
     "output_type": "stream",
     "text": [
      "Item 0 - 10.62\n",
      "Item 1 - 16.14\n",
      "Item 2 - 6.45\n",
      "Item 3 - 17.11\n"
     ]
    }
   ],
   "source": [
    "#20. q = [10.62, 16.14, 6.45, 17.11]\n",
    "#for __?__, z in enumerate (q) :\n",
    "#print( ‘Item ‘ + str( j ) + ‘ - ‘, str ( z ))\n",
    "#Output: Item 0 – 10.62\n",
    "#Item 1 – 16.14\n",
    "#Item 2 – 6.45\n",
    "#Item 3 – 17.11\n",
    "\n",
    "#1) z\n",
    "#2) i\n",
    "#3) j\n",
    "#4) x\n",
    "#5) k\n",
    "#6) y\n",
    "\n",
    "\n",
    "q = [10.62, 16.14, 6.45, 17.11]\n",
    "\n",
    "for j,z in enumerate (q) :\n",
    "    print( \"Item \" + str(j) + \" - \" + str(z))\n",
    "\n",
    "# Answer:\n",
    "# 3) j"
   ]
  },
  {
   "cell_type": "raw",
   "metadata": {},
   "source": [
    "21. Which of these about a dictionary is false?\n",
    "a) The values of a dictionary can be accessed using keys\n",
    "b) The keys of a dictionary can be accessed using values\n",
    "c) Dictionaries aren’t ordered\n",
    "d) Dictionaries are mutable\n",
    "\n",
    "Answer:\n",
    "b) The keys of a dictionary can be accessed using values - we can't do it directly but using lambda function we can do it\n",
    "d) Dictionaries are mutable"
   ]
  },
  {
   "cell_type": "code",
   "execution_count": 72,
   "metadata": {},
   "outputs": [
    {
     "name": "stdout",
     "output_type": "stream",
     "text": [
      "{0: 1, 1: 1, 2: 1}\n"
     ]
    }
   ],
   "source": [
    "#22. What is the output of the following:\n",
    "#D = dict()\n",
    "#for i in range (3):\n",
    "#for j in range(2):\n",
    "#D[i] = j\n",
    "#a. {0: 1, 1: 1, 2: 1}\n",
    "#b. {1: 0, 1: 1, 1: 2}\n",
    "#c. {0: 1, 1: 2, 2: 3}\n",
    "#d. {1: 2, 1: 1, 1: 0}\n",
    "\n",
    "D = dict()\n",
    "for i in range (3):\n",
    "    for j in range(2):\n",
    "        D[i] = j\n",
    "\n",
    "print(D)\n",
    "\n",
    "### Answer:\n",
    "\n",
    "# a. {0: 1, 1: 1, 2: 1}"
   ]
  },
  {
   "cell_type": "raw",
   "metadata": {},
   "source": [
    "23. You are writing a function that increments player score in a soccer game\n",
    "If no value is specified for points, then point must start with 1\n",
    "If no value is specified for bonus, then bonus should be True\n",
    "01 def increment_score ( bonus , score , points ):\n",
    "To meet the first requirement line 01 must be change to\n",
    " def increment_score ( bonus , score , points = 1 ): (True or False)\n",
    "To meet the second requirement line 01 must be change to\n",
    " def increment_score ( bonus = True , score , points = 1 ): (True or False)\n",
    " Once a parameter is defined with default value, any parameter to the right must also be defined with default values (True or False)\n",
    "\n",
    "Answer:\n",
    "To meet the first requirement line 01 must be change to\n",
    "def increment_score ( bonus , score , points = 1 ): (True)\n",
    "To meet the second requirement line 01 must be change to\n",
    "def increment_score ( bonus = True , score , points = 1 ): (False)\n",
    "Once a parameter is defined with default value, any parameter to the right must also be defined with default values (True)\n"
   ]
  },
  {
   "cell_type": "code",
   "execution_count": 77,
   "metadata": {},
   "outputs": [
    {
     "name": "stdout",
     "output_type": "stream",
     "text": [
      "11.333333333333334\n"
     ]
    }
   ],
   "source": [
    "#24. What will be output?\n",
    "#def avg ( x , y , z = 50 ):\n",
    "#adding = x + y + z\n",
    "#avg_value = adding / 3\n",
    "#return avg_value\n",
    "#y = avg ( x = 5 , y = 9 , z = 20 )\n",
    "#print(y)\n",
    "\n",
    "\n",
    "def avg (x , y , z = 50 ):\n",
    "    adding = x + y + z\n",
    "    avg_value = adding / 3\n",
    "    return avg_value\n",
    "y = avg ( x = 5 , y = 9 , z = 20 )\n",
    "\n",
    "print(y)\n",
    "\n",
    "#Answer:\n",
    "# 11.333333333333334"
   ]
  },
  {
   "cell_type": "code",
   "execution_count": 84,
   "metadata": {},
   "outputs": [
    {
     "name": "stdout",
     "output_type": "stream",
     "text": [
      "name is: Ali Marks: 44.5\n"
     ]
    }
   ],
   "source": [
    "#25. what will be output? Describe it with reason and logic behind. \n",
    "#Do multiple experiments with arguments / parameters to remove error, if occurs.\n",
    "#def avg ( *opt_values , name ):\n",
    "#avg_value = sum (opt_values) / len(opt_values)\n",
    "#print(‘name is: ’ + name + ‘Marks: ’ + str(avg_value))\n",
    "#avg ( 5 , 9 , 20, 34, 87, 112 , ‘Ali’ )\n",
    "\n",
    "\n",
    "def avg ( *opt_values , name ):\n",
    "    avg_value = sum (opt_values) / len(opt_values)\n",
    "    print(\"name is: \" + name + \" Marks: \" + str(avg_value))\n",
    "\n",
    "avg ( 5 , 9 , 20, 34, 87, 112 , name=\"Ali\" ) \n",
    "\n",
    "# Answer:\n",
    "# name is: Ali Marks: 44.5\n",
    "# There was an error as we are taking *opt_values as a first argument \n",
    "# and error is \"missing 1 required keyword-only argument: 'name'\"\n",
    "# we must initilizeed all right side parameters as a named arguments. so it is fixed by using name=\"Ali\" argument"
   ]
  },
  {
   "cell_type": "raw",
   "metadata": {},
   "source": [
    "26. Final output is not required. Just take copy pencil, think and write the output of each line, write down the link between parameters and arguments. Remove one or two ** from other_info and observe the ouput.\n",
    "def display_result(winner, score, **other_info):\n",
    "print(\"The winner was \" + winner)\n",
    "print(\"The score was \" + score)\n",
    "display_result(winner=“Manchester\", score=\"1-0\", overtime =\"yes\", injuries=\"none\")\n",
    " Answer:\n",
    "\n",
    "# Output :\n",
    "#The winner was Manchester\n",
    "#The score was 4-3\n",
    "\n",
    "# winner and score are named argument and will map to function params as it is\n",
    "# overime and injuries will map to other_info which is directory unpacking/decomposing parameter\n",
    "# on remove * gives an error as it expects non-defined values but we passed defined arguments which not exist in function parameters.\n",
    "# on remove ** gives an error as it expects other_info parameter as a defined parameters while we are not passing or defined in the calling statement"
   ]
  },
  {
   "cell_type": "code",
   "execution_count": 92,
   "metadata": {},
   "outputs": [
    {
     "ename": "TypeError",
     "evalue": "display_result() got an unexpected keyword argument 'overtime'",
     "output_type": "error",
     "traceback": [
      "\u001b[1;31m---------------------------------------------------------------------------\u001b[0m",
      "\u001b[1;31mTypeError\u001b[0m                                 Traceback (most recent call last)",
      "\u001b[1;32m<ipython-input-92-2b9a093d0106>\u001b[0m in \u001b[0;36m<module>\u001b[1;34m\u001b[0m\n\u001b[0;32m      3\u001b[0m     \u001b[0mprint\u001b[0m\u001b[1;33m(\u001b[0m\u001b[1;34m\"The score was \"\u001b[0m \u001b[1;33m+\u001b[0m \u001b[0mscore\u001b[0m\u001b[1;33m)\u001b[0m\u001b[1;33m\u001b[0m\u001b[1;33m\u001b[0m\u001b[0m\n\u001b[0;32m      4\u001b[0m \u001b[1;33m\u001b[0m\u001b[0m\n\u001b[1;32m----> 5\u001b[1;33m \u001b[0mdisplay_result\u001b[0m\u001b[1;33m(\u001b[0m\u001b[0mwinner\u001b[0m\u001b[1;33m=\u001b[0m\u001b[1;34m\"Manchester\"\u001b[0m\u001b[1;33m,\u001b[0m \u001b[0mscore\u001b[0m\u001b[1;33m=\u001b[0m\u001b[1;34m\"4-3\"\u001b[0m\u001b[1;33m,\u001b[0m \u001b[0movertime\u001b[0m \u001b[1;33m=\u001b[0m\u001b[1;34m\"yes\"\u001b[0m\u001b[1;33m,\u001b[0m \u001b[0minjuries\u001b[0m\u001b[1;33m=\u001b[0m\u001b[1;34m\"none\"\u001b[0m\u001b[1;33m)\u001b[0m\u001b[1;33m\u001b[0m\u001b[1;33m\u001b[0m\u001b[0m\n\u001b[0m",
      "\u001b[1;31mTypeError\u001b[0m: display_result() got an unexpected keyword argument 'overtime'"
     ]
    }
   ],
   "source": [
    "def display_result(winner, score, *other_info):\n",
    "    print(\"The winner was \" + winner)\n",
    "    print(\"The score was \" + score)\n",
    "    \n",
    "display_result(winner=\"Manchester\", score=\"4-3\", overtime =\"yes\", injuries=\"none\")"
   ]
  },
  {
   "cell_type": "code",
   "execution_count": 93,
   "metadata": {},
   "outputs": [
    {
     "ename": "TypeError",
     "evalue": "display_result() got an unexpected keyword argument 'overtime'",
     "output_type": "error",
     "traceback": [
      "\u001b[1;31m---------------------------------------------------------------------------\u001b[0m",
      "\u001b[1;31mTypeError\u001b[0m                                 Traceback (most recent call last)",
      "\u001b[1;32m<ipython-input-93-4af4d1ec0f1c>\u001b[0m in \u001b[0;36m<module>\u001b[1;34m\u001b[0m\n\u001b[0;32m      3\u001b[0m     \u001b[0mprint\u001b[0m\u001b[1;33m(\u001b[0m\u001b[1;34m\"The score was \"\u001b[0m \u001b[1;33m+\u001b[0m \u001b[0mscore\u001b[0m\u001b[1;33m)\u001b[0m\u001b[1;33m\u001b[0m\u001b[1;33m\u001b[0m\u001b[0m\n\u001b[0;32m      4\u001b[0m \u001b[1;33m\u001b[0m\u001b[0m\n\u001b[1;32m----> 5\u001b[1;33m \u001b[0mdisplay_result\u001b[0m\u001b[1;33m(\u001b[0m\u001b[0mwinner\u001b[0m\u001b[1;33m=\u001b[0m\u001b[1;34m\"Manchester\"\u001b[0m\u001b[1;33m,\u001b[0m \u001b[0mscore\u001b[0m\u001b[1;33m=\u001b[0m\u001b[1;34m\"4-3\"\u001b[0m\u001b[1;33m,\u001b[0m \u001b[0movertime\u001b[0m \u001b[1;33m=\u001b[0m\u001b[1;34m\"yes\"\u001b[0m\u001b[1;33m,\u001b[0m \u001b[0minjuries\u001b[0m\u001b[1;33m=\u001b[0m\u001b[1;34m\"none\"\u001b[0m\u001b[1;33m)\u001b[0m\u001b[1;33m\u001b[0m\u001b[1;33m\u001b[0m\u001b[0m\n\u001b[0m",
      "\u001b[1;31mTypeError\u001b[0m: display_result() got an unexpected keyword argument 'overtime'"
     ]
    }
   ],
   "source": [
    "def display_result(winner, score, other_info):\n",
    "    print(\"The winner was \" + winner)\n",
    "    print(\"The score was \" + score)\n",
    "    \n",
    "display_result(winner=\"Manchester\", score=\"4-3\", overtime =\"yes\", injuries=\"none\")"
   ]
  },
  {
   "cell_type": "code",
   "execution_count": 96,
   "metadata": {},
   "outputs": [
    {
     "name": "stdout",
     "output_type": "stream",
     "text": [
      "The winner was Manchester\n",
      "The score was 4-3\n"
     ]
    }
   ],
   "source": [
    "def display_result(winner, score, **other_info):\n",
    "    print(\"The winner was \" + winner)\n",
    "    print(\"The score was \" + score)\n",
    "    \n",
    "display_result(winner=\"Manchester\", score=\"4-3\", overtime =\"yes\", injuries=\"none\")"
   ]
  },
  {
   "cell_type": "code",
   "execution_count": 100,
   "metadata": {},
   "outputs": [
    {
     "name": "stdout",
     "output_type": "stream",
     "text": [
      "The winner was Manchester\n",
      "The score was 1-0\n"
     ]
    }
   ],
   "source": [
    "#27. The position of parameters and arguments is re-arranged. Just think and find the logic behind output or error.\n",
    "#def display_result(winner, **other_info, score):\n",
    "#print(\"The winner was \" + winner)\n",
    "#print(\"The score was \" + score)\n",
    "#display_result(winner=“Manchester\", overtime =\"yes\", injuries=\"none“ , score=\"1-0“ )\n",
    "\n",
    "\n",
    "def display_result(winner, score, **other_info): # Rearranged params because unpacking dictionary can't be in middle\n",
    "    print(\"The winner was \" + winner)\n",
    "    print(\"The score was \" + score)\n",
    "\n",
    "display_result(winner=\"Manchester\", overtime =\"yes\", injuries=\"none\" , score=\"1-0\" )\n",
    "\n",
    "\n",
    "### Answer:\n",
    "# non-defined values should be on one side.\n"
   ]
  },
  {
   "cell_type": "code",
   "execution_count": 104,
   "metadata": {},
   "outputs": [
    {
     "name": "stdout",
     "output_type": "stream",
     "text": [
      "000123\n"
     ]
    }
   ],
   "source": [
    "#28. What will be the output of the following Python expression if X=123?\n",
    "#print(“%06d”%X)\n",
    "#a) 123000\n",
    "#b) 000123\n",
    "#c) 000000123\n",
    "#d) 123000000\n",
    "\n",
    "\n",
    "\n",
    "X=123\n",
    "print(\"%06d\"%X)\n",
    "\n",
    "# Answer:\n",
    "# b) 000123 value contains 6 digits"
   ]
  },
  {
   "cell_type": "code",
   "execution_count": 109,
   "metadata": {},
   "outputs": [
    {
     "name": "stdout",
     "output_type": "stream",
     "text": [
      "22.190000\n"
     ]
    }
   ],
   "source": [
    "#29. What will be the output of the following Python expression if x=22.19?\n",
    "#print(\"%5.2f\"%x)\n",
    "#a) 22.1900\n",
    "#b) 22.00000\n",
    "#c) 22.19\n",
    "#d) 22.20\n",
    "\n",
    "\n",
    "\n",
    "x=22.19\n",
    "print(\"%5.2f\"%x)\n",
    "\n",
    "### Answer:\n",
    "# c) 22.19 value contains 2 floating digits"
   ]
  },
  {
   "cell_type": "code",
   "execution_count": 114,
   "metadata": {},
   "outputs": [
    {
     "data": {
      "text/plain": [
       "'1.234560, 1.234560, 01.23'"
      ]
     },
     "execution_count": 114,
     "metadata": {},
     "output_type": "execute_result"
    }
   ],
   "source": [
    "#30. What will be the output of the following Python code?\n",
    "#'{0:f}, {1:2f}, {2:05.2f}'.format(1.23456, 1.23456, 1.23456)\n",
    "#a) Error \n",
    "#b) ‘1.234560, 1.22345, 1.23’ \n",
    "#c) No output \n",
    "#d) ‘1.234560, 1.234560, 01.23’\n",
    "\n",
    "\n",
    "'{0:f}, {1:2f}, {2:05.2f}'.format(1.23456, 1.23456, 1.23456)\n",
    "\n",
    "### Answer:\n",
    "\n",
    "# d) 1.234560, 1.234560, 01.23"
   ]
  },
  {
   "cell_type": "code",
   "execution_count": 128,
   "metadata": {},
   "outputs": [],
   "source": [
    "#31. Write down the output of each line after each iterations. Do multiple experiments to change values\n",
    "#i = 1\n",
    "#while False:\n",
    "#if i%2 == 0:\n",
    "#break\n",
    "#print(i)\n",
    "#i += 2\n",
    "\n",
    "### Code\n",
    "\n",
    "i = 1\n",
    "while False: # code will never execute as condition is set false, if we set it true then it will execute infinity times\n",
    "    if i%2 == 0:  # on even value loop will break\n",
    "        break\n",
    "    print(i)\n",
    "    i += 2  # increment of 2 in existing value\n"
   ]
  },
  {
   "cell_type": "code",
   "execution_count": 141,
   "metadata": {},
   "outputs": [
    {
     "name": "stdout",
     "output_type": "stream",
     "text": [
      "a a a a a a "
     ]
    }
   ],
   "source": [
    "#32. Write down the output of each line after each iterations. Do multiple experiments to change values\n",
    "#x = \"abcdef\"\n",
    "#i = \"a\"\n",
    "#while i in x:\n",
    "#x = x[:-1]\n",
    "#print(i, end = \" \")\n",
    "\n",
    "\n",
    "\n",
    "\n",
    "x = \"abcdef\"\n",
    "i = \"a\"\n",
    "while i in x:\n",
    "    x = x[:-1] # reduce string length from end but never move cursor to next item\n",
    "    print(i, end = \" \") # print a and space\n",
    "\n",
    "# Answer:\n",
    "\n",
    "# setp 1\n",
    "# x = abcdef\n",
    "# value of i will print \"a\"\n",
    "\n",
    "# step 2\n",
    "# x = abcde\n",
    "# value of i will print \"a\"\n",
    "\n",
    "# step 3\n",
    "# x = abcd\n",
    "# value of i will print \"a\"\n",
    "\n",
    "# step 4\n",
    "# x = abc\n",
    "# value of i will print \"a\"\n",
    "\n",
    "# step 5\n",
    "# x = ab\n",
    "# value of i will print \"a\"\n",
    "\n",
    "# step 6\n",
    "# x = a\n",
    "# value of i will print \"a\"\n",
    "\n",
    "# Output:  a a a a a a\n"
   ]
  },
  {
   "cell_type": "code",
   "execution_count": 150,
   "metadata": {},
   "outputs": [
    {
     "name": "stdout",
     "output_type": "stream",
     "text": [
      "d\n",
      "c\n",
      "b\n",
      "a\n"
     ]
    }
   ],
   "source": [
    "#33. Write down the output of each line after each iterations. Do multiple experiments to change values\n",
    "#for i in ''.join(reversed(list('abcd'))):\n",
    "#print (i)\n",
    "\n",
    "# Answer:\n",
    "\n",
    "for i in ''.join(reversed(list('abcd'))): #convert string into charater and reverse it ('d','c','b','a')\n",
    "    print (i)\n",
    "\n",
    "# Step 1 - d\n",
    "# Step 2 - c\n",
    "# Step 3 - b\n",
    "# Step 4 - a"
   ]
  },
  {
   "cell_type": "code",
   "execution_count": 163,
   "metadata": {},
   "outputs": [
    {
     "name": "stdout",
     "output_type": "stream",
     "text": [
      "0\n",
      "1\n",
      "2\n",
      "3\n",
      "4\n"
     ]
    }
   ],
   "source": [
    "#34. Flow of the program. Write the output of each line after every iteration of ‘i’\n",
    "#for i in range(10):\n",
    "#if i == 5:\n",
    "#break\n",
    "#else:\n",
    "#print(i)\n",
    "#else:\n",
    "#print(\"Here\")\n",
    "\n",
    "\n",
    "for i in range(10):\n",
    "    if i == 5:\n",
    "        break\n",
    "    else:\n",
    "        print(i)\n",
    "else:\n",
    "    print(\"Here\")\n",
    "\n",
    "# Answer:\n",
    "\n",
    "# Step 1 value of i will print 0\n",
    "# Step 2 value of i will print 1\n",
    "# Step 3 value of i will print 2\n",
    "# Step 4 value of i will print 3\n",
    "# Step 5 value of i will print 4\n",
    "# Step 6 value if i = 5, execute the break command"
   ]
  },
  {
   "cell_type": "code",
   "execution_count": 171,
   "metadata": {},
   "outputs": [
    {
     "name": "stdout",
     "output_type": "stream",
     "text": [
      "48\n"
     ]
    }
   ],
   "source": [
    "#35. What is the output? And understand the functionality of lambda function\n",
    "#y = 6\n",
    "#z = lambda x: x * y\n",
    "#print z(8)\n",
    "\n",
    "\n",
    "y = 6\n",
    "z = lambda x: x * y\n",
    "print (z(8))\n",
    "\n",
    "# Answer:\n",
    "\n",
    "#lambda functions are inline functions are annoymous function\n",
    "#we create lambda function and pass value of x and multiply with value of y and return the value to z\n",
    "#Ouput is 48 where x=8 and y = 6"
   ]
  },
  {
   "cell_type": "code",
   "execution_count": 181,
   "metadata": {},
   "outputs": [
    {
     "name": "stdout",
     "output_type": "stream",
     "text": [
      "0\n"
     ]
    }
   ],
   "source": [
    "#36. Write output and give proper logic of whatever the output comes.\n",
    "#i=0\n",
    "#def change(i):\n",
    "#i=i+1\n",
    "#return i\n",
    "#change(1)\n",
    "#print(i)\n",
    "\n",
    "\n",
    "i=0\n",
    "def change(i):\n",
    "    i=i+1\n",
    "    return i\n",
    "change(1)\n",
    "print(i)\n",
    "\n",
    "# Answer:\n",
    "\n",
    "# When we print i after calling change function it will show the old i value which was set at the time of initialization not the one we have\n",
    "# changed in then \"change\" function. because the i have different scope in both block, in change function we are getting single paramter \"i\"\n",
    "# which have local scope and it can't change the outter side variable value. until variable is passed through ref or the returned value again\n",
    "# assigned to i where function is calling such as i = change(1)\n"
   ]
  },
  {
   "cell_type": "code",
   "execution_count": 194,
   "metadata": {},
   "outputs": [
    {
     "name": "stdout",
     "output_type": "stream",
     "text": [
      "<class 'tuple'>\n",
      "(2, 3, 4)\n"
     ]
    }
   ],
   "source": [
    "#40. What will be output? Define this output clearly\n",
    "#def change(one, *two):\n",
    "#print(type(two))\n",
    "#print(two)\n",
    "#change(1,2,3,4)\n",
    "\n",
    "def change(one, *two):\n",
    "    print(type(two)) # print type of parameters which is tuple\n",
    "    print(two) # print tuple value\n",
    "change(1,2,3,4)\n",
    "\n",
    "# Answer:\n",
    "\n",
    "# type of variable \"two\"\n",
    "# a tuple value (2, 3, 4)"
   ]
  },
  {
   "cell_type": "code",
   "execution_count": 198,
   "metadata": {},
   "outputs": [
    {
     "name": "stdout",
     "output_type": "stream",
     "text": [
      "<class 'dict'>\n"
     ]
    }
   ],
   "source": [
    "#41. What will be output? Define this output clearly\n",
    "#def find(a, **b):\n",
    "#print(type(b))\n",
    "#find('letters',A='1',B='2')\n",
    "\n",
    "\n",
    "\n",
    "def find(a, **b):\n",
    "    print(type(b))\n",
    "find('letters',A='1',B='2')\n",
    "\n",
    "# Answer:\n",
    "# It returns dict type object,  **b took key value pair arguments after \"a\" and generate dictionary from rest of parameters"
   ]
  },
  {
   "cell_type": "code",
   "execution_count": 207,
   "metadata": {},
   "outputs": [
    {
     "name": "stdout",
     "output_type": "stream",
     "text": [
      "[0]\n",
      "[0, 1]\n",
      "[0, 1, 2]\n"
     ]
    }
   ],
   "source": [
    "#42. Write output and define each line’s output for each iteration of ‘i’\n",
    "#def foo(i, x=[]):\n",
    "#x.append(i)\n",
    "#return x\n",
    "#for i in range(3):\n",
    "#print(foo(i))\n",
    "\n",
    "\n",
    "def foo(i, x=[]):\n",
    "    x.append(i)\n",
    "    return x\n",
    "for i in range(3):\n",
    "    print(foo(i))\n",
    "\n",
    "# Answer:\n",
    "\n",
    "# For loop execute from 0 to 3\n",
    "# Will pass i value into foo function\n",
    "\n",
    "# Step 1 :\n",
    "#   i = 0, x = empty array\n",
    "#   appent i into x list\n",
    "#   x updated value [0]\n",
    "#   value of x which is return by function foo in loop and display\n",
    "\n",
    "# Step 2 :\n",
    "#   i = 1, x = [0] # updated in previous setp\n",
    "#   append i into x list, which is already innitialized on first step\n",
    "#   x will be [0, 1]\n",
    "#   value of x which is return by function foo in loop and display\n",
    "\n",
    "# Step 3 :\n",
    "#   i = 2, x = [0, 1] # updated in previous setp\n",
    "#   append i into x list, which is already exists in memory\n",
    "#   x will be  [0, 1, 2]\n",
    "#   value of x which is return by function foo in loop and display\n",
    "\n",
    "\n",
    "# Here main point is to be noted x array is only initialized one time because its reference type and behave like static data in memory\n"
   ]
  },
  {
   "cell_type": "code",
   "execution_count": 215,
   "metadata": {},
   "outputs": [
    {
     "data": {
      "text/plain": [
       "15"
      ]
     },
     "execution_count": 215,
     "metadata": {},
     "output_type": "execute_result"
    }
   ],
   "source": [
    "#43. Evaluate the following Python arithmetic expression: and write which segment will execute first? \n",
    "#(Brackets, Exponents, Multiplication, Addition / Subtraction, Left to right rule)\n",
    "#(3* (1+2)**2 - (2**2)*3)\n",
    "\n",
    "\n",
    "(3* (1+2)**2 - (2**2)*3)\n",
    "\n",
    "# Answer:\n",
    "\n",
    "# 1 - (1+2) == 3 -- (3* (3)**2 - (2**2)*3)\n",
    "# 2 - (2**2) == 4 -- (3* (3)**2 - (4)*3)\n",
    "# 3 - (3)**2 == 9 -- (3* 9 - (4)*3)\n",
    "# 4 - 3* 9 == 27 -- (27 - (4)*3)\n",
    "# 5 - (4)*3 == 12 -- (27 - 12)\n",
    "# 6 - (27 - 12) == 15 -- (27 - 12)\n",
    "# 7 - 15 will be answer\n"
   ]
  },
  {
   "cell_type": "code",
   "execution_count": 249,
   "metadata": {},
   "outputs": [
    {
     "data": {
      "text/plain": [
       "100"
      ]
     },
     "execution_count": 249,
     "metadata": {},
     "output_type": "execute_result"
    }
   ],
   "source": [
    "#44.You are creating a function that manipulates a number. The function has the following requirements:\n",
    "# A float is passed into the function\n",
    "# The function must take the absolute value of the float\n",
    "# Any decimal points after the integer must be removed\n",
    "#A. math.fmod(x)\n",
    "#B. math.frexp(x)\n",
    "#C. math.floor(x)\n",
    "#D. math.ceil(x)\n",
    "#E. math.fabs(x)\n",
    "\n",
    "\n",
    "import math\n",
    "x = math.fabs(-100.002) # used to get absolute value from float\n",
    "math.floor(x) # used to remove decimal points\n",
    "\n",
    "### Answer:\n",
    "# E. math.fabs(x)  used to retrive absolute value from float\n",
    "# C. math.floor(x) used to remove decimal points"
   ]
  },
  {
   "cell_type": "code",
   "execution_count": 252,
   "metadata": {},
   "outputs": [
    {
     "name": "stdout",
     "output_type": "stream",
     "text": [
      "10\n",
      "11\n"
     ]
    }
   ],
   "source": [
    "#%45. You are writing code that generates a random integer with a minimum value of 5 and a maximum value of 11.\n",
    "#Which two functions should you use? Each correct answer presents a complete solution. (Choose two.)\n",
    "#A. random.randint(5, 12)\n",
    "#B. random.randint(5, 11)\n",
    "#C. random.randrange(5, 12, 1)\n",
    "#D. random.randrange(5, 11, 1)\n",
    "\n",
    "\n",
    "from random import randint, randrange\n",
    "print(randint(5, 11)) # end value is included.\n",
    "print(randrange(5, 12, 1)) # will exclude end value\n",
    "\n",
    "#Answer:\n",
    "# B. random.randint(5, 11)\n",
    "# C. random.randrange(5, 12, 1)"
   ]
  },
  {
   "cell_type": "code",
   "execution_count": 264,
   "metadata": {},
   "outputs": [
    {
     "name": "stdout",
     "output_type": "stream",
     "text": [
      "Please Enter Marks: 70\n",
      "Your Grade: C\n"
     ]
    }
   ],
   "source": [
    "#46. Write a program that receives marks from user and check the grade.\n",
    "#Marks greater than equal to 90 then A grade\n",
    "#Marks between 80 to 90, B grade\n",
    "#Marks between 70 to 80, C grade\n",
    "#Marks between 60 to 70, D grade\n",
    "#Marks less than equal to 60 then E grade\n",
    "\n",
    "\n",
    "#Answer:\n",
    "\n",
    "marks = int(input(\"Please Enter Marks: \"))\n",
    "if(marks >= 90):\n",
    "    grade = \"A\"\n",
    "elif(marks >= 80 and user_marks < 90):\n",
    "    grade = \"B\"\n",
    "elif(marks >= 70 and user_marks < 80):\n",
    "    grade = \"C\"\n",
    "elif(marks > 60 and user_marks < 70 ):\n",
    "    grade = \"D\"\n",
    "elif(marks <= 60):\n",
    "    grade = \"E\"\n",
    "print(f\"Your Grade: {grade}\")"
   ]
  },
  {
   "cell_type": "code",
   "execution_count": null,
   "metadata": {},
   "outputs": [],
   "source": []
  },
  {
   "cell_type": "code",
   "execution_count": null,
   "metadata": {},
   "outputs": [],
   "source": []
  }
 ],
 "metadata": {
  "kernelspec": {
   "display_name": "Python 3",
   "language": "python",
   "name": "python3"
  },
  "language_info": {
   "codemirror_mode": {
    "name": "ipython",
    "version": 3
   },
   "file_extension": ".py",
   "mimetype": "text/x-python",
   "name": "python",
   "nbconvert_exporter": "python",
   "pygments_lexer": "ipython3",
   "version": "3.7.4"
  }
 },
 "nbformat": 4,
 "nbformat_minor": 2
}
