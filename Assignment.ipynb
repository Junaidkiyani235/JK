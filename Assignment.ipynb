{
 "cells": [
  {
   "cell_type": "markdown",
   "metadata": {},
   "source": [
    "# Assignment"
   ]
  },
  {
   "cell_type": "code",
   "execution_count": 2,
   "metadata": {},
   "outputs": [
    {
     "data": {
      "text/plain": [
       "38"
      ]
     },
     "execution_count": 2,
     "metadata": {},
     "output_type": "execute_result"
    }
   ],
   "source": [
    "18 + 20 # Operation\n"
   ]
  },
  {
   "cell_type": "code",
   "execution_count": 6,
   "metadata": {},
   "outputs": [
    {
     "data": {
      "text/plain": [
       "-1282.0"
      ]
     },
     "execution_count": 6,
     "metadata": {},
     "output_type": "execute_result"
    }
   ],
   "source": [
    "6 + 3 - 8**3 * 3 + 20 / 4 * (7 * 7)\n",
    "\n",
    "#PEMDAS\n",
    "\n",
    "# 6+3-8**3*3+20/4*(49)\n",
    "# 6+3-8**3*3+20/4*49\n",
    "# 6+3-512*3+20/4*49\n",
    "# 6+3-1536+5*49\n",
    "# 6+3-1536+245\n",
    "# 9+245-1536\n",
    "# 254-1536\n",
    "#-1282\n"
   ]
  },
  {
   "cell_type": "code",
   "execution_count": 7,
   "metadata": {},
   "outputs": [
    {
     "name": "stdout",
     "output_type": "stream",
     "text": [
      "3\n",
      "2\n",
      "140727195705808\n",
      "140727195705776\n"
     ]
    }
   ],
   "source": [
    "#copy types\n",
    "# Shallow Copy\n",
    "a = 3\n",
    "b = 2\n",
    "\n",
    "print(a)\n",
    "print(b)\n",
    "\n",
    "print(id(a))\n",
    "print(id(b))"
   ]
  },
  {
   "cell_type": "code",
   "execution_count": 8,
   "metadata": {},
   "outputs": [
    {
     "name": "stdout",
     "output_type": "stream",
     "text": [
      "['I', ' ', 'A', 'm', ' ', 'J', 'u', 'n', 'a', 'i', 'd']\n",
      "['I', ' ', 'A', 'm', ' ', 'J', 'u', 'n', 'a', 'i', 'd']\n",
      "2057223936584\n",
      "2057223147784\n"
     ]
    }
   ],
   "source": [
    "# Deep Copy\n",
    "a = list(\"I Am Junaid\")\n",
    "b = a.copy()\n",
    "\n",
    "print(a)\n",
    "print(b)\n",
    "\n",
    "print(id(a))\n",
    "print(id(b))"
   ]
  },
  {
   "cell_type": "code",
   "execution_count": 11,
   "metadata": {},
   "outputs": [
    {
     "name": "stdout",
     "output_type": "stream",
     "text": [
      "20\n",
      "<class 'int'>\n",
      "20.18\n",
      "<class 'float'>\n",
      "3\n",
      "<class 'int'>\n",
      "1.0\n",
      "<class 'float'>\n",
      "True\n",
      "<class 'bool'>\n",
      "20\n",
      "<class 'str'>\n",
      "20\n",
      "<class 'str'>\n"
     ]
    }
   ],
   "source": [
    "a=20\n",
    "print(a)\n",
    "print (type(a))\n",
    "a=20.18\n",
    "print(a)\n",
    "print (type(a))\n",
    "a = 20 // 6 # floor Division\n",
    "print(a)\n",
    "print(type(a))\n",
    "a=20/20\n",
    "print(a)\n",
    "print (type(a))\n",
    "a=True\n",
    "print(a)\n",
    "print (type(a))\n",
    "a=\"20\"\n",
    "print(a)\n",
    "print (type(a))\n",
    "a='20'\n",
    "print(a)\n",
    "print (type(a))"
   ]
  },
  {
   "cell_type": "code",
   "execution_count": 12,
   "metadata": {},
   "outputs": [
    {
     "name": "stdout",
     "output_type": "stream",
     "text": [
      "['Ali', 'waqas', 'Junaid', 200, True]\n",
      "200\n",
      "Junaid\n",
      "<class 'list'>\n"
     ]
    }
   ],
   "source": [
    "#Index     0    1        2       3     4\n",
    "names = [\"Ali\",\"waqas\",\"Junaid\",200, True]\n",
    "#Index     -5    -4     -3      -2    -1\n",
    "print (names)\n",
    "print (names[-2]) #list [indexNumber]\n",
    "print (names[2]) #list [indexNumber]\n",
    "print(type (names))"
   ]
  },
  {
   "cell_type": "code",
   "execution_count": 13,
   "metadata": {},
   "outputs": [
    {
     "name": "stdout",
     "output_type": "stream",
     "text": [
      "('Ali', 'waqas', 'Junaid', 200, True)\n",
      "True\n",
      "<class 'tuple'>\n"
     ]
    }
   ],
   "source": [
    "#Index     0    1        2       3     4\n",
    "names = (\"Ali\",\"waqas\",\"Junaid\",200, True) #tuple [Element,Element]\n",
    "#Index     -5    -4     -3      -2    -1\n",
    "print (names)\n",
    "print (names[-1]) #list [indexNumber]\n",
    "\n",
    "print(type (names))"
   ]
  },
  {
   "cell_type": "code",
   "execution_count": 14,
   "metadata": {},
   "outputs": [
    {
     "name": "stdout",
     "output_type": "stream",
     "text": [
      "{'Junaid', 'Ali', 'waqas'}\n",
      "<class 'set'>\n"
     ]
    }
   ],
   "source": [
    "#set\n",
    "names = {\"Ali\",\"waqas\",\"Junaid\",\"Ali\"}  # set \n",
    "\n",
    "print (names)\n",
    "\n",
    "\n",
    "print(type (names))"
   ]
  },
  {
   "cell_type": "code",
   "execution_count": 17,
   "metadata": {},
   "outputs": [
    {
     "name": "stdout",
     "output_type": "stream",
     "text": [
      "Junaid\n",
      "<class 'list'>\n"
     ]
    }
   ],
   "source": [
    "#type casting \n",
    "\n",
    "names = {\"Ali\",\"waqas\",\"Junaid\",\"Ali\"}  # set \n",
    "\n",
    "names = list(sorted(names))\n",
    "print (names[-2])\n",
    "\n",
    "\n",
    "print(type (names))"
   ]
  },
  {
   "cell_type": "code",
   "execution_count": 21,
   "metadata": {},
   "outputs": [
    {
     "name": "stdout",
     "output_type": "stream",
     "text": [
      "Pakistan\n"
     ]
    }
   ],
   "source": [
    "#Dictionary \n",
    "#{\n",
    "#Key0:value0, \n",
    "#Key1:value1\n",
    "#Key2:value2\n",
    "#}\n",
    "\n",
    "#key  hashable data type\n",
    "#value any data type\n",
    "\n",
    "data = {\n",
    "    \"name\": \"Muhammad Junaid\",\n",
    "    \"fee\": \"1000\",\n",
    "    \"Edu\": ['Matric,FSC,Graduation'],\n",
    "    5: \"Pakistan\"\n",
    "}\n",
    "print (data[5])\n",
    "    "
   ]
  },
  {
   "cell_type": "code",
   "execution_count": 31,
   "metadata": {},
   "outputs": [
    {
     "name": "stdout",
     "output_type": "stream",
     "text": [
      "dianuJ ma I\n",
      " m\n",
      "I am Junaid\n"
     ]
    }
   ],
   "source": [
    "#list[start:end:step]\n",
    "#tuple[start:end:step]\n",
    "#string[start:end:step]\n",
    "#start ->Included\n",
    "#end   ->Excluded\n",
    "#Step  ->Sequance\n",
    "a=\"I am Junaid\"\n",
    "print (a[::-1])\n",
    "print (a[1:4:2])\n",
    "print (a[0:9:]+a[-2:])"
   ]
  },
  {
   "cell_type": "markdown",
   "metadata": {},
   "source": [
    "# String Data types and Methods"
   ]
  },
  {
   "cell_type": "code",
   "execution_count": 32,
   "metadata": {},
   "outputs": [
    {
     "data": {
      "text/plain": [
       "['__add__',\n",
       " '__class__',\n",
       " '__contains__',\n",
       " '__delattr__',\n",
       " '__dir__',\n",
       " '__doc__',\n",
       " '__eq__',\n",
       " '__format__',\n",
       " '__ge__',\n",
       " '__getattribute__',\n",
       " '__getitem__',\n",
       " '__getnewargs__',\n",
       " '__gt__',\n",
       " '__hash__',\n",
       " '__init__',\n",
       " '__init_subclass__',\n",
       " '__iter__',\n",
       " '__le__',\n",
       " '__len__',\n",
       " '__lt__',\n",
       " '__mod__',\n",
       " '__mul__',\n",
       " '__ne__',\n",
       " '__new__',\n",
       " '__reduce__',\n",
       " '__reduce_ex__',\n",
       " '__repr__',\n",
       " '__rmod__',\n",
       " '__rmul__',\n",
       " '__setattr__',\n",
       " '__sizeof__',\n",
       " '__str__',\n",
       " '__subclasshook__',\n",
       " 'capitalize',\n",
       " 'casefold',\n",
       " 'center',\n",
       " 'count',\n",
       " 'encode',\n",
       " 'endswith',\n",
       " 'expandtabs',\n",
       " 'find',\n",
       " 'format',\n",
       " 'format_map',\n",
       " 'index',\n",
       " 'isalnum',\n",
       " 'isalpha',\n",
       " 'isascii',\n",
       " 'isdecimal',\n",
       " 'isdigit',\n",
       " 'isidentifier',\n",
       " 'islower',\n",
       " 'isnumeric',\n",
       " 'isprintable',\n",
       " 'isspace',\n",
       " 'istitle',\n",
       " 'isupper',\n",
       " 'join',\n",
       " 'ljust',\n",
       " 'lower',\n",
       " 'lstrip',\n",
       " 'maketrans',\n",
       " 'partition',\n",
       " 'replace',\n",
       " 'rfind',\n",
       " 'rindex',\n",
       " 'rjust',\n",
       " 'rpartition',\n",
       " 'rsplit',\n",
       " 'rstrip',\n",
       " 'split',\n",
       " 'splitlines',\n",
       " 'startswith',\n",
       " 'strip',\n",
       " 'swapcase',\n",
       " 'title',\n",
       " 'translate',\n",
       " 'upper',\n",
       " 'zfill']"
      ]
     },
     "execution_count": 32,
     "metadata": {},
     "output_type": "execute_result"
    }
   ],
   "source": [
    "a = \"MuHaMmAd JUnAiD\"\n",
    "dir(a)"
   ]
  },
  {
   "cell_type": "code",
   "execution_count": 33,
   "metadata": {},
   "outputs": [
    {
     "name": "stdout",
     "output_type": "stream",
     "text": [
      "Muhammad junaid\n",
      "MuHaMmAd JUnAiD\n"
     ]
    }
   ],
   "source": [
    "#capitalize\n",
    "a = \"MuHaMmAd JUnAiD\"\n",
    "print(a.capitalize())\n",
    "print(a)"
   ]
  },
  {
   "cell_type": "code",
   "execution_count": 34,
   "metadata": {},
   "outputs": [
    {
     "name": "stdout",
     "output_type": "stream",
     "text": [
      "muhammad junaid\n",
      "MuHaMmAd JUnAiD\n"
     ]
    }
   ],
   "source": [
    "#casefold\n",
    "a = \"MuHaMmAd JUnAiD\"\n",
    "print(a.casefold())\n",
    "print(a)"
   ]
  },
  {
   "cell_type": "code",
   "execution_count": 37,
   "metadata": {},
   "outputs": [
    {
     "name": "stdout",
     "output_type": "stream",
     "text": [
      "MuHaMmAd JUnAiD\n",
      "MuHaMmAd JUnAiD\n",
      "MuHaMmAd JUnAiD\n",
      "MuHaMmAd JUnAiD\n"
     ]
    }
   ],
   "source": [
    "#center\n",
    "a = \"MuHaMmAd JUnAiD\"\n",
    "print(a.center(1))\n",
    "print(a.center(2))\n",
    "print(a.center(3))\n",
    "print(a)"
   ]
  },
  {
   "cell_type": "code",
   "execution_count": 41,
   "metadata": {},
   "outputs": [
    {
     "name": "stdout",
     "output_type": "stream",
     "text": [
      "1\n",
      "MuHaMmAd JUnAiD\n"
     ]
    }
   ],
   "source": [
    "#count\n",
    "a = \"MuHaMmAd JUnAiD\"\n",
    "print(a.count(a))\n",
    "print(a)"
   ]
  },
  {
   "cell_type": "code",
   "execution_count": 43,
   "metadata": {},
   "outputs": [
    {
     "name": "stdout",
     "output_type": "stream",
     "text": [
      "b'MuHaMmAd JUnAiD'\n",
      "MuHaMmAd JUnAiD\n"
     ]
    }
   ],
   "source": [
    "#encode\n",
    "a = \"MuHaMmAd JUnAiD\"\n",
    "print(a.encode())\n",
    "print(a)"
   ]
  },
  {
   "cell_type": "code",
   "execution_count": 46,
   "metadata": {},
   "outputs": [
    {
     "name": "stdout",
     "output_type": "stream",
     "text": [
      "True\n",
      "MuHaMmAd JUnAiD\n"
     ]
    }
   ],
   "source": [
    "#endswith\n",
    "a = \"MuHaMmAd JUnAiD\"\n",
    "print(a.endswith(a))\n",
    "print(a)"
   ]
  },
  {
   "cell_type": "code",
   "execution_count": 48,
   "metadata": {},
   "outputs": [
    {
     "name": "stdout",
     "output_type": "stream",
     "text": [
      "MuHaMmAd JUnAiD\n",
      "MuHaMmAd JUnAiD\n"
     ]
    }
   ],
   "source": [
    "#expandtabs\n",
    "a = \"MuHaMmAd JUnAiD\"\n",
    "print(a.expandtabs())\n",
    "print(a)"
   ]
  },
  {
   "cell_type": "code",
   "execution_count": 51,
   "metadata": {},
   "outputs": [
    {
     "name": "stdout",
     "output_type": "stream",
     "text": [
      "9\n",
      "MuHaMmAd JUnAiD\n"
     ]
    }
   ],
   "source": [
    "#find\n",
    "a = \"MuHaMmAd JUnAiD\"\n",
    "print(a.find(\"JUnAiD\"))\n",
    "print(a)"
   ]
  },
  {
   "cell_type": "code",
   "execution_count": 52,
   "metadata": {},
   "outputs": [
    {
     "name": "stdout",
     "output_type": "stream",
     "text": [
      "MuHaMmAd JUnAiD\n",
      "MuHaMmAd JUnAiD\n"
     ]
    }
   ],
   "source": [
    "#format\n",
    "a = \"MuHaMmAd JUnAiD\"\n",
    "print(a.format())\n",
    "print(a)"
   ]
  },
  {
   "cell_type": "code",
   "execution_count": 53,
   "metadata": {},
   "outputs": [
    {
     "name": "stdout",
     "output_type": "stream",
     "text": [
      "MuHaMmAd JUnAiD\n",
      "MuHaMmAd JUnAiD\n"
     ]
    }
   ],
   "source": [
    "#format_map\n",
    "a = \"MuHaMmAd JUnAiD\"\n",
    "print(a.format_map(a))\n",
    "print(a)"
   ]
  },
  {
   "cell_type": "code",
   "execution_count": 57,
   "metadata": {},
   "outputs": [
    {
     "name": "stdout",
     "output_type": "stream",
     "text": [
      "5\n",
      "13\n",
      "MuHaMmAd JUnAiD\n"
     ]
    }
   ],
   "source": [
    "#index\n",
    "a = \"MuHaMmAd JUnAiD\"\n",
    "print(a.index(\"m\"))\n",
    "print(a.index(\"i\"))\n",
    "print(a)"
   ]
  },
  {
   "cell_type": "code",
   "execution_count": 58,
   "metadata": {},
   "outputs": [
    {
     "name": "stdout",
     "output_type": "stream",
     "text": [
      "False\n",
      "MuHaMmAd JUnAiD\n"
     ]
    }
   ],
   "source": [
    "#isalnum \n",
    "a = \"MuHaMmAd JUnAiD\"\n",
    "print(a.isalnum())\n",
    "print(a)"
   ]
  },
  {
   "cell_type": "code",
   "execution_count": 60,
   "metadata": {},
   "outputs": [
    {
     "name": "stdout",
     "output_type": "stream",
     "text": [
      "False\n",
      "MuHaMmAd JUnAiD\n"
     ]
    }
   ],
   "source": [
    "#isalpha\n",
    "a = \"MuHaMmAd JUnAiD\"\n",
    "print(a.isalpha())\n",
    "print(a)"
   ]
  },
  {
   "cell_type": "code",
   "execution_count": 61,
   "metadata": {},
   "outputs": [
    {
     "name": "stdout",
     "output_type": "stream",
     "text": [
      "True\n",
      "MuHaMmAd JUnAiD\n"
     ]
    }
   ],
   "source": [
    "#isascii\n",
    "a = \"MuHaMmAd JUnAiD\"\n",
    "print(a.isascii())\n",
    "print(a)"
   ]
  },
  {
   "cell_type": "code",
   "execution_count": 62,
   "metadata": {},
   "outputs": [
    {
     "name": "stdout",
     "output_type": "stream",
     "text": [
      "False\n",
      "MuHaMmAd JUnAiD\n"
     ]
    }
   ],
   "source": [
    "#isdecimal\n",
    "a = \"MuHaMmAd JUnAiD\"\n",
    "print(a.isdecimal())\n",
    "print(a)"
   ]
  },
  {
   "cell_type": "code",
   "execution_count": 63,
   "metadata": {},
   "outputs": [
    {
     "name": "stdout",
     "output_type": "stream",
     "text": [
      "False\n",
      "MuHaMmAd JUnAiD\n"
     ]
    }
   ],
   "source": [
    "#isdigit\n",
    "a = \"MuHaMmAd JUnAiD\"\n",
    "print(a.isdigit())\n",
    "print(a)"
   ]
  },
  {
   "cell_type": "code",
   "execution_count": 64,
   "metadata": {},
   "outputs": [
    {
     "name": "stdout",
     "output_type": "stream",
     "text": [
      "False\n",
      "MuHaMmAd JUnAiD\n"
     ]
    }
   ],
   "source": [
    "#isidentifier\n",
    "a = \"MuHaMmAd JUnAiD\"\n",
    "print(a.isidentifier())\n",
    "print(a)"
   ]
  },
  {
   "cell_type": "code",
   "execution_count": 67,
   "metadata": {},
   "outputs": [
    {
     "name": "stdout",
     "output_type": "stream",
     "text": [
      "False\n",
      "MuHaMmAd JUnAiD\n",
      "True\n",
      "muhammad junaid\n"
     ]
    }
   ],
   "source": [
    "#islower\n",
    "a = \"MuHaMmAd JUnAiD\"\n",
    "print(a.islower())\n",
    "print(a)\n",
    "\n",
    "a = \"muhammad junaid\"\n",
    "print(a.islower())\n",
    "print(a)"
   ]
  },
  {
   "cell_type": "code",
   "execution_count": 68,
   "metadata": {},
   "outputs": [
    {
     "name": "stdout",
     "output_type": "stream",
     "text": [
      "False\n",
      "MuHaMmAd JUnAiD\n"
     ]
    }
   ],
   "source": [
    "#isnumeric\n",
    "a = \"MuHaMmAd JUnAiD\"\n",
    "print(a.isnumeric())\n",
    "print(a)"
   ]
  },
  {
   "cell_type": "code",
   "execution_count": 69,
   "metadata": {},
   "outputs": [
    {
     "name": "stdout",
     "output_type": "stream",
     "text": [
      "True\n",
      "MuHaMmAd JUnAiD\n"
     ]
    }
   ],
   "source": [
    "#isprintable\n",
    "a = \"MuHaMmAd JUnAiD\"\n",
    "print(a.isprintable())\n",
    "print(a)"
   ]
  },
  {
   "cell_type": "code",
   "execution_count": 70,
   "metadata": {},
   "outputs": [
    {
     "name": "stdout",
     "output_type": "stream",
     "text": [
      "False\n",
      "MuHaMmAd JUnAiD\n"
     ]
    }
   ],
   "source": [
    "#isspace\n",
    "a = \"MuHaMmAd JUnAiD\"\n",
    "print(a.isspace())\n",
    "print(a)"
   ]
  },
  {
   "cell_type": "code",
   "execution_count": 71,
   "metadata": {},
   "outputs": [
    {
     "name": "stdout",
     "output_type": "stream",
     "text": [
      "False\n",
      "MuHaMmAd JUnAiD\n"
     ]
    }
   ],
   "source": [
    "#istitle\n",
    "a = \"MuHaMmAd JUnAiD\"\n",
    "print(a.istitle())\n",
    "print(a)"
   ]
  },
  {
   "cell_type": "code",
   "execution_count": 72,
   "metadata": {},
   "outputs": [
    {
     "name": "stdout",
     "output_type": "stream",
     "text": [
      "False\n",
      "MuHaMmAd JUnAiD\n"
     ]
    }
   ],
   "source": [
    "#isupper\n",
    "a = \"MuHaMmAd JUnAiD\"\n",
    "print(a.isupper())\n",
    "print(a)"
   ]
  },
  {
   "cell_type": "code",
   "execution_count": 100,
   "metadata": {},
   "outputs": [
    {
     "data": {
      "text/plain": [
       "'M|u|H|a|M|m|A|d| |J|U|n|A|i|D'"
      ]
     },
     "execution_count": 100,
     "metadata": {},
     "output_type": "execute_result"
    }
   ],
   "source": [
    "#join\n",
    "a = \"MuHaMmAd JUnAiD\"\n",
    "\n",
    "\"|\".join(a)"
   ]
  },
  {
   "cell_type": "code",
   "execution_count": 77,
   "metadata": {},
   "outputs": [
    {
     "name": "stdout",
     "output_type": "stream",
     "text": [
      "MuHaMmAd JUnAiD\n",
      "MuHaMmAd JUnAiD\n"
     ]
    }
   ],
   "source": [
    "#ljust\n",
    "a = \"MuHaMmAd JUnAiD\"\n",
    "print(a.ljust(1))\n",
    "print(a)"
   ]
  },
  {
   "cell_type": "code",
   "execution_count": 101,
   "metadata": {},
   "outputs": [
    {
     "name": "stdout",
     "output_type": "stream",
     "text": [
      "muhammad junaid\n",
      "MuHaMmAd JUnAiD\n"
     ]
    }
   ],
   "source": [
    "#lower\n",
    "a = \"MuHaMmAd JUnAiD\"\n",
    "print(a.lower())\n",
    "print(a)"
   ]
  },
  {
   "cell_type": "code",
   "execution_count": 79,
   "metadata": {},
   "outputs": [
    {
     "name": "stdout",
     "output_type": "stream",
     "text": [
      "34\n",
      "Muhammad       Junaid     \n",
      "26\n",
      "        Muhammad       Junaid     \n"
     ]
    }
   ],
   "source": [
    "#lstrip\n",
    "a = \"       Muhammad       Junaid     \"\n",
    "print(len(a))\n",
    "print(a.lstrip())\n",
    "print(len(a.lstrip()))\n",
    "print(a)"
   ]
  },
  {
   "cell_type": "code",
   "execution_count": 108,
   "metadata": {},
   "outputs": [
    {
     "name": "stdout",
     "output_type": "stream",
     "text": [
      "{97: 122, 98: 121, 99: 120, 100: 119, 101: 118, 102: 117, 103: 116, 104: 115, 105: 114, 106: 113, 107: 112, 108: 111, 109: 110, 110: 109, 111: 108, 112: 107, 113: 106, 114: 105, 115: 104, 116: 103, 117: 102, 118: 101, 119: 100, 120: 99, 121: 98, 122: 97}\n"
     ]
    }
   ],
   "source": [
    "#maketrans\n",
    "list1 = \"abcdefghijklmnopqrstuvwxyz\"\n",
    "list2 = \"zyxwvutsrqponmlkjihgfedcba\"\n",
    "print (str.maketrans(list1, list2))"
   ]
  },
  {
   "cell_type": "code",
   "execution_count": 112,
   "metadata": {},
   "outputs": [
    {
     "name": "stdout",
     "output_type": "stream",
     "text": [
      "('MuHaMmAd ', '|', ' JUnAiD')\n",
      "MuHaMmAd | JUnAiD\n"
     ]
    }
   ],
   "source": [
    "#partition\n",
    "a = \"MuHaMmAd | JUnAiD\"\n",
    "print(a.partition(\"|\"))\n",
    "print(a)"
   ]
  },
  {
   "cell_type": "code",
   "execution_count": 87,
   "metadata": {},
   "outputs": [
    {
     "name": "stdout",
     "output_type": "stream",
     "text": [
      "MuHAMmAd JUnAiD\n",
      "MuHaMmAd JUnAiD\n"
     ]
    }
   ],
   "source": [
    "#replace\n",
    "a = \"MuHaMmAd JUnAiD\"\n",
    "print(a.replace(\"a\",\"A\"))\n",
    "print(a)"
   ]
  },
  {
   "cell_type": "code",
   "execution_count": 88,
   "metadata": {},
   "outputs": [
    {
     "name": "stdout",
     "output_type": "stream",
     "text": [
      "7\n",
      "MuHaMmAd JUnAiD\n"
     ]
    }
   ],
   "source": [
    "#rfind\n",
    "a = \"MuHaMmAd JUnAiD\"\n",
    "print(a.rfind(\"d\"))\n",
    "print(a)"
   ]
  },
  {
   "cell_type": "code",
   "execution_count": 89,
   "metadata": {},
   "outputs": [
    {
     "name": "stdout",
     "output_type": "stream",
     "text": [
      "9\n",
      "MuHaMmAd JUnAiD\n"
     ]
    }
   ],
   "source": [
    "#rindex\n",
    "a = \"MuHaMmAd JUnAiD\"\n",
    "print(a.rindex(\"J\"))\n",
    "print(a)"
   ]
  },
  {
   "cell_type": "code",
   "execution_count": 91,
   "metadata": {},
   "outputs": [
    {
     "name": "stdout",
     "output_type": "stream",
     "text": [
      "MuHaMmAd JUnAiD\n",
      "MuHaMmAd JUnAiD\n"
     ]
    }
   ],
   "source": [
    "#rjust\n",
    "a = \"MuHaMmAd JUnAiD\"\n",
    "print(a.rjust(1))\n",
    "print(a)"
   ]
  },
  {
   "cell_type": "code",
   "execution_count": 85,
   "metadata": {},
   "outputs": [
    {
     "name": "stdout",
     "output_type": "stream",
     "text": [
      "('MuHaMmAd ', '|', ' JUnAiD')\n",
      "MuHaMmAd | JUnAiD\n"
     ]
    }
   ],
   "source": [
    "#rpartition\n",
    "a = \"MuHaMmAd | JUnAiD\"\n",
    "print(a.partition(\"|\"))\n",
    "print(a)"
   ]
  },
  {
   "cell_type": "code",
   "execution_count": 80,
   "metadata": {},
   "outputs": [
    {
     "name": "stdout",
     "output_type": "stream",
     "text": [
      "33\n",
      "       Muhammad       Junaid\n",
      "28\n",
      "       Muhammad       Junaid     \n"
     ]
    }
   ],
   "source": [
    "#rsplit\n",
    "a = \"       Muhammad       Junaid     \"\n",
    "print(len(a))\n",
    "print(a.rstrip())\n",
    "print(len(a.rstrip()))\n",
    "print(a)"
   ]
  },
  {
   "cell_type": "code",
   "execution_count": 81,
   "metadata": {},
   "outputs": [
    {
     "name": "stdout",
     "output_type": "stream",
     "text": [
      "33\n",
      "Muhammad       Junaid\n",
      "21\n",
      "       Muhammad       Junaid     \n"
     ]
    }
   ],
   "source": [
    "#split\n",
    "a = \"       Muhammad       Junaid     \"\n",
    "print(len(a))\n",
    "print(a.strip())\n",
    "print(len(a.strip()))\n",
    "print(a)"
   ]
  },
  {
   "cell_type": "code",
   "execution_count": 115,
   "metadata": {},
   "outputs": [
    {
     "name": "stdout",
     "output_type": "stream",
     "text": [
      "['I Am Junaid']\n",
      "['I ', ' Am ', ' Junaid']\n"
     ]
    }
   ],
   "source": [
    "#splitlines\n",
    "str = \"I Am Junaid\"  \n",
    "\n",
    "print(str.splitlines())\n",
    "\n",
    "str2 = \"I \\n Am \\n Junaid\"  \n",
    "\n",
    "print(str2.splitlines())"
   ]
  },
  {
   "cell_type": "code",
   "execution_count": 118,
   "metadata": {},
   "outputs": [
    {
     "name": "stdout",
     "output_type": "stream",
     "text": [
      "False\n",
      "True\n"
     ]
    }
   ],
   "source": [
    "#startswith\n",
    "text = \"I Am Junaid\"\n",
    "\n",
    "print( text.startswith('Junaid'))\n",
    "\n",
    "print(text.startswith('I Am '))\n"
   ]
  },
  {
   "cell_type": "code",
   "execution_count": 136,
   "metadata": {},
   "outputs": [
    {
     "name": "stdout",
     "output_type": "stream",
     "text": [
      "yahoo I am Junaid yah\n"
     ]
    }
   ],
   "source": [
    "#strip\n",
    "string = '   yahoo I am Junaid yahoo   '\n",
    "print(string.strip(' o'))"
   ]
  },
  {
   "cell_type": "code",
   "execution_count": 95,
   "metadata": {},
   "outputs": [
    {
     "name": "stdout",
     "output_type": "stream",
     "text": [
      "mUhAmMaD juNaId\n",
      "MuHaMmAd JUnAiD\n"
     ]
    }
   ],
   "source": [
    "#swapcase\n",
    "a = \"MuHaMmAd JUnAiD\"\n",
    "print(a.swapcase())\n",
    "print(a)"
   ]
  },
  {
   "cell_type": "code",
   "execution_count": 139,
   "metadata": {},
   "outputs": [
    {
     "name": "stdout",
     "output_type": "stream",
     "text": [
      "I Am Junaid\n"
     ]
    }
   ],
   "source": [
    "#title\n",
    "\n",
    "str = \"I Am Junaid\";\n",
    "print (str.title())"
   ]
  },
  {
   "cell_type": "code",
   "execution_count": 109,
   "metadata": {},
   "outputs": [
    {
     "name": "stdout",
     "output_type": "stream",
     "text": [
      "r zn uiln kzprhgzm dsviv ziv lgsvi ztvmgh\n"
     ]
    }
   ],
   "source": [
    "#translate\n",
    "list1 = \"abcdefghijklmnopqrstuvwxyz\"\n",
    "list2 = \"zyxwvutsrqponmlkjihgfedcba\"\n",
    "encode = str.maketrans(list1, list2)\n",
    "str = \"i am from pakistan where are other agents\"\n",
    "print (str.translate(encode))"
   ]
  },
  {
   "cell_type": "code",
   "execution_count": 94,
   "metadata": {},
   "outputs": [
    {
     "name": "stdout",
     "output_type": "stream",
     "text": [
      "MUHAMMAD JUNAID\n",
      "MuHaMmAd JUnAiD\n"
     ]
    }
   ],
   "source": [
    "#upper\n",
    "a = \"MuHaMmAd JUnAiD\"\n",
    "print(a.upper())\n",
    "print(a)"
   ]
  },
  {
   "cell_type": "code",
   "execution_count": 141,
   "metadata": {},
   "outputs": [
    {
     "name": "stdout",
     "output_type": "stream",
     "text": [
      "0050\n"
     ]
    }
   ],
   "source": [
    "#zfill\n",
    "txt = \"50\"\n",
    "x = txt.zfill(4)\n",
    "print(x)"
   ]
  },
  {
   "cell_type": "code",
   "execution_count": null,
   "metadata": {},
   "outputs": [],
   "source": []
  }
 ],
 "metadata": {
  "kernelspec": {
   "display_name": "Python 3",
   "language": "python",
   "name": "python3"
  },
  "language_info": {
   "codemirror_mode": {
    "name": "ipython",
    "version": 3
   },
   "file_extension": ".py",
   "mimetype": "text/x-python",
   "name": "python",
   "nbconvert_exporter": "python",
   "pygments_lexer": "ipython3",
   "version": "3.7.4"
  }
 },
 "nbformat": 4,
 "nbformat_minor": 2
}
